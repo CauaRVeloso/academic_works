{
  "nbformat": 4,
  "nbformat_minor": 0,
  "metadata": {
    "colab": {
      "provenance": []
    },
    "kernelspec": {
      "name": "python3",
      "display_name": "Python 3"
    },
    "language_info": {
      "name": "python"
    }
  },
  "cells": [
    {
      "cell_type": "code",
      "execution_count": null,
      "metadata": {
        "id": "zGbfr_Yu9l-8",
        "colab": {
          "base_uri": "https://localhost:8080/"
        },
        "outputId": "377fca96-f8ab-4e4c-dea3-8351f8afd6d9"
      },
      "outputs": [
        {
          "output_type": "stream",
          "name": "stdout",
          "text": [
            "Digite um número inteiro (negativo para encerrar): 10\n",
            "Digite um número inteiro (negativo para encerrar): 10\n",
            "Digite um número inteiro (negativo para encerrar): 10\n",
            "Digite um número inteiro (negativo para encerrar): 5\n",
            "Digite um número inteiro (negativo para encerrar): 5\n",
            "Digite um número inteiro (negativo para encerrar): -3\n",
            "A média dos números digitados é 8.00\n"
          ]
        }
      ],
      "source": [
        "#ex01\n",
        "n = int(input('Digite um número inteiro (negativo para encerrar): '))\n",
        "soma = 0\n",
        "qnt = 0\n",
        "while n >= 0:\n",
        "    soma += n\n",
        "    qnt += 1\n",
        "    n = int(input('Digite um número inteiro (negativo para encerrar): '))\n",
        "if qnt > 0:\n",
        "    media = soma / qnt\n",
        "    print(f'A média dos números digitados é {media:.2f}')\n",
        "else:\n",
        "    print('Nenhum número positivo foi digitado.')\n",
        "\n"
      ]
    },
    {
      "cell_type": "code",
      "source": [
        "#ex02\n",
        "positivo = 0\n",
        "negativo = 0\n",
        "n = 1\n",
        "\n",
        "while n != 0:\n",
        "  n = int(input('Digite um número: '))\n",
        "  if n > 0:\n",
        "    positivo += 1\n",
        "  elif n < 0:\n",
        "    negativo += 1\n",
        "\n",
        "print(f'Foram digitados {positivo} números positivos e {negativo} números negativos')\n"
      ],
      "metadata": {
        "id": "If0WD6FcI8Do",
        "colab": {
          "base_uri": "https://localhost:8080/"
        },
        "outputId": "b90e1c7d-d2ba-4c43-e340-f86e3f590ed5"
      },
      "execution_count": null,
      "outputs": [
        {
          "output_type": "stream",
          "name": "stdout",
          "text": [
            "Digite um número: 645\n",
            "Digite um número: 6\n",
            "Digite um número: 64\n",
            "Digite um número: 365\n",
            "Digite um número: -1\n",
            "Digite um número: -1\n",
            "Digite um número: 0\n",
            "Foram digitados 4 números positivos e 2 números negativos\n"
          ]
        }
      ]
    },
    {
      "cell_type": "code",
      "source": [
        "#ex03\n",
        "n = -1\n",
        "\n",
        "while n < 0 or n > 10:\n",
        "  n = int(input('Digite um número entre 0 e 10: '))\n",
        "  if n < 0 or n > 10:\n",
        "    print('Valor inválido, digite um valor entre 0 e 10')\n",
        "  else:\n",
        "    print('numero valido')\n",
        "\n",
        "\n"
      ],
      "metadata": {
        "id": "KydLIuuaKLRk",
        "colab": {
          "base_uri": "https://localhost:8080/"
        },
        "outputId": "4430ec4c-328a-49ac-d07a-a2d5e0cbef6a"
      },
      "execution_count": null,
      "outputs": [
        {
          "output_type": "stream",
          "name": "stdout",
          "text": [
            "Digite um número entre 0 e 10: 443\n",
            "Valor inválido, digite um valor entre 0 e 10\n",
            "Digite um número entre 0 e 10: 43\n",
            "Valor inválido, digite um valor entre 0 e 10\n",
            "Digite um número entre 0 e 10: 3\n",
            "numero valido\n"
          ]
        }
      ]
    },
    {
      "cell_type": "code",
      "source": [
        "#ex04\n",
        "orcamento = float(input(\"Informe o valor do orçamento (mínimo R$100.00): \"))\n",
        "\n",
        "if orcamento < 100:\n",
        "    print(\"Orçamento inválido. Deve ser no mínimo R$100.00.\")\n",
        "else:\n",
        "    gasto = 0\n",
        "\n",
        "    while gasto < orcamento:\n",
        "        servico = float(input(\"Informe o valor do serviço: \"))\n",
        "\n",
        "        if gasto + servico > orcamento:\n",
        "            print(\"Esse serviço ultrapassa o orçamento. Nenhum outro pode ser adicionado.\")\n",
        "            break\n",
        "\n",
        "        print(f\"Serviço aceito: R${servico:.2f}\")\n",
        "        gasto += servico\n",
        "\n",
        "    print(f\"Total gasto: R${gasto:.2f}\")\n"
      ],
      "metadata": {
        "id": "XxIVJaM8L7Vh",
        "colab": {
          "base_uri": "https://localhost:8080/"
        },
        "outputId": "586c5805-57a1-4f20-a628-66abacd2749d"
      },
      "execution_count": null,
      "outputs": [
        {
          "output_type": "stream",
          "name": "stdout",
          "text": [
            "Informe o valor do orçamento (mínimo R$100.00): 1000\n",
            "Informe o valor do serviço: 22\n",
            "Serviço aceito: R$22.00\n",
            "Informe o valor do serviço: 145\n",
            "Serviço aceito: R$145.00\n",
            "Informe o valor do serviço: 145\n",
            "Serviço aceito: R$145.00\n",
            "Informe o valor do serviço: 1454\n",
            "Esse serviço ultrapassa o orçamento. Nenhum outro pode ser adicionado.\n",
            "Total gasto: R$312.00\n"
          ]
        }
      ]
    },
    {
      "cell_type": "code",
      "source": [
        "#ex05\n",
        "nome = input(\"Qual o seu nome? \").strip()\n",
        "while len(nome) <= 2:\n",
        "    print(\"Digite um nome válido.\")\n",
        "    nome = input(\"Qual o seu nome? \").strip()\n",
        "\n",
        "idade = int(input(\"Qual sua idade? \"))\n",
        "while idade <= 0 or idade > 150:\n",
        "    print(\"Idade inválida.\")\n",
        "    idade = int(input(\"Digite novamente sua idade: \"))\n",
        "\n",
        "salario = float(input(\"Qual o seu salário? \"))\n",
        "while salario <= 0:\n",
        "    print(\"Salário inválido.\")\n",
        "    salario = float(input(\"Digite novamente seu salário: \"))\n",
        "\n",
        "sexo = input(\"Qual o seu gênero? Masculino(M)/Feminino(F): \").strip().upper()\n",
        "while sexo not in ['M', 'F']:\n",
        "    print(\"Sexo inválido.\")\n",
        "    sexo = input(\"Digite novamente (M ou F): \").strip().upper()\n",
        "\n",
        "estado_civil = input(\"Qual o seu estado civil? Solteiro(S), Casado(C), Viúvo(V), Divorciado(D): \").strip().upper()\n",
        "while estado_civil not in ['S', 'C', 'V', 'D']:\n",
        "    print(\"Estado civil inválido.\")\n",
        "    estado_civil = input(\"Digite novamente (S, C, V, D): \").strip().upper()\n",
        "\n",
        "print(\"\\nCadastro finalizado com sucesso!\")\n",
        "print(f\"Nome: {nome}\")\n",
        "print(f\"Idade: {idade}\")\n",
        "print(f\"Salário: R${salario:.2f}\")\n",
        "print(f\"Sexo: {sexo}\")\n",
        "print(f\"Estado Civil: {estado_civil}\")\n"
      ],
      "metadata": {
        "id": "abF4j9q8m5uv",
        "colab": {
          "base_uri": "https://localhost:8080/"
        },
        "outputId": "a623bcc1-35dd-4857-ca95-e3bebf750305"
      },
      "execution_count": null,
      "outputs": [
        {
          "output_type": "stream",
          "name": "stdout",
          "text": [
            "Qual o seu nome? fellipe\n",
            "Qual sua idade? 18\n",
            "Qual o seu salário? 500000\n",
            "Qual o seu gênero? Masculino(M)/Feminino(F): m\n",
            "Qual o seu estado civil? Solteiro(S), Casado(C), Viúvo(V), Divorciado(D): s\n",
            "\n",
            "Cadastro finalizado com sucesso!\n",
            "Nome: fellipe\n",
            "Idade: 18\n",
            "Salário: R$500000.00\n",
            "Sexo: M\n",
            "Estado Civil: S\n"
          ]
        }
      ]
    },
    {
      "cell_type": "code",
      "source": [
        "#ex06\n",
        "num = int(input('Digite um número:'))\n",
        "num2 = int(input('Digite mais um para ser o expoente: '))\n",
        "expoente = 1\n",
        "if num == 0:\n",
        "  print('Qualquer número elevado a base 0 é igual a 0')\n",
        "elif num2 == 0:\n",
        "  print('qualquer número elevado a 0 é igual a 1')\n",
        "else:\n",
        "  for c in range (num2):\n",
        "    expoente *= num\n",
        "    print(expoente)"
      ],
      "metadata": {
        "id": "21AndfOID3PV",
        "colab": {
          "base_uri": "https://localhost:8080/"
        },
        "outputId": "1fdcefb1-17f6-444a-fdc7-6768e2e8c8f4"
      },
      "execution_count": null,
      "outputs": [
        {
          "output_type": "stream",
          "name": "stdout",
          "text": [
            "Digite um número:4\n",
            "Digite mais um para ser o expoente: 6\n",
            "4\n",
            "16\n",
            "64\n",
            "256\n",
            "1024\n",
            "4096\n"
          ]
        }
      ]
    },
    {
      "cell_type": "code",
      "source": [
        "#ex07\n",
        "num1 = 1\n",
        "num2 = int(input('Digite um número para fazer sua tabuada: '))\n",
        "for c in range (0,10):\n",
        "  print(f'{num1} x {num2} = {num2*num1}')\n",
        "  num1 +=1"
      ],
      "metadata": {
        "id": "yW_S6Kd9HT7x",
        "colab": {
          "base_uri": "https://localhost:8080/"
        },
        "outputId": "50ac4aab-41e3-4850-cf61-51b470798021"
      },
      "execution_count": null,
      "outputs": [
        {
          "output_type": "stream",
          "name": "stdout",
          "text": [
            "Digite um número para fazer sua tabuada: 8\n",
            "1 x 8 = 8\n",
            "2 x 8 = 16\n",
            "3 x 8 = 24\n",
            "4 x 8 = 32\n",
            "5 x 8 = 40\n",
            "6 x 8 = 48\n",
            "7 x 8 = 56\n",
            "8 x 8 = 64\n",
            "9 x 8 = 72\n",
            "10 x 8 = 80\n"
          ]
        }
      ]
    },
    {
      "cell_type": "code",
      "source": [
        "#08\n",
        "n1 = 1\n",
        "n2 = 1\n",
        "n = int(input('Digite um inteiro: '))\n",
        "\n",
        "if n <= 0:\n",
        "    print(\"Quantidade inválida (deveria ser > 0).\")\n",
        "else:\n",
        "    for i in range(n):\n",
        "        if i == 0 or i == 1:\n",
        "            print(1, end=' ')\n",
        "        else:\n",
        "            n3 = n1 + n2\n",
        "            print(n3, end=' ')\n",
        "            n1, n2 = n2, n3\n"
      ],
      "metadata": {
        "id": "AU-oOAftIUe5",
        "colab": {
          "base_uri": "https://localhost:8080/"
        },
        "outputId": "dedbea3c-3ab4-4dac-d9c2-475dcd896035"
      },
      "execution_count": null,
      "outputs": [
        {
          "output_type": "stream",
          "name": "stdout",
          "text": [
            "Digite um inteiro: 6\n",
            "1 1 2 3 5 8 "
          ]
        }
      ]
    },
    {
      "cell_type": "code",
      "source": [
        "#ex9\n",
        "n  = int(input('Digite um número para saber seu fatorial: '))\n",
        "fat = 1\n",
        "for c in range(n,0,- 1):\n",
        "  fat *= c\n",
        "print(f'{fat}')"
      ],
      "metadata": {
        "id": "et6I6gTnl1Zv",
        "colab": {
          "base_uri": "https://localhost:8080/"
        },
        "outputId": "e03fc8d8-3db1-4c4f-d3c1-7b8e24a452d4"
      },
      "execution_count": null,
      "outputs": [
        {
          "output_type": "stream",
          "name": "stdout",
          "text": [
            "Digite um número para saber seu fatorial: 5\n",
            "120\n"
          ]
        }
      ]
    },
    {
      "cell_type": "code",
      "source": [
        "#ex10\n",
        "cont = 0\n",
        "n = int(input('Digite um número para saber se ele é primo: '))\n",
        "for c in range(1,n+1):\n",
        "  if n % c == 0:\n",
        "    cont += 1\n",
        "if cont == 2:\n",
        "  print('Esse número é primo')\n",
        "else:\n",
        "  print('Esse número não é primo')"
      ],
      "metadata": {
        "id": "krv0cJ1OFyS3",
        "colab": {
          "base_uri": "https://localhost:8080/"
        },
        "outputId": "0695f228-b343-463b-adba-cdd745210b47"
      },
      "execution_count": null,
      "outputs": [
        {
          "output_type": "stream",
          "name": "stdout",
          "text": [
            "Digite um número para saber se ele é primo: 5\n",
            "Esse número é primo\n"
          ]
        }
      ]
    },
    {
      "cell_type": "code",
      "source": [
        "#ex11\n",
        "num1 = int(input(\"Digite o primeiro número inteiro positivo: \"))\n",
        "while num1 <= 0:\n",
        "    print(\"Número inválido. Digite um número positivo.\")\n",
        "    num1 = int(input(\"Digite o primeiro número inteiro positivo: \"))\n",
        "\n",
        "num2 = int(input(\"Digite o segundo número inteiro positivo: \"))\n",
        "while num2 <= 0:\n",
        "    print(\"Número inválido. Digite um número positivo.\")\n",
        "    num2 = int(input(\"Digite o segundo número inteiro positivo: \"))\n",
        "\n",
        "a = num1\n",
        "b = num2\n",
        "while b != 0:\n",
        "    a, b = b, a % b\n",
        "mdc = a\n",
        "mmc = (num1 * num2) // mdc\n",
        "print(f\"O MDC de {num1} e {num2} é: {mdc}\")\n",
        "print(f\"O MMC de {num1} e {num2} é: {mmc}\")\n",
        "\n"
      ],
      "metadata": {
        "id": "Bha2xzsaCb4R",
        "colab": {
          "base_uri": "https://localhost:8080/"
        },
        "outputId": "aebecdf1-73cb-4b0b-c14f-c28389edaef5"
      },
      "execution_count": null,
      "outputs": [
        {
          "output_type": "stream",
          "name": "stdout",
          "text": [
            "Digite o primeiro número inteiro positivo: 5\n",
            "Digite o segundo número inteiro positivo: 20\n",
            "O MDC de 5 e 20 é: 5\n",
            "O MMC de 5 e 20 é: 20\n"
          ]
        }
      ]
    },
    {
      "cell_type": "code",
      "source": [
        "#ex12\n",
        "n1 = int(input('Qual a razão dessa P.A?'))\n",
        "n2 = (int(input('Qual o primeiro número dessa P.A')))\n",
        "n3 = int(input('Até qual termo você quer que ela vá?'))\n",
        "multiplicador = n2\n",
        "for c in range(n3):\n",
        "  print(multiplicador)\n",
        "  multiplicador += n1\n",
        "\n",
        "\n",
        "\n"
      ],
      "metadata": {
        "id": "bHpB2NLvQfKQ",
        "colab": {
          "base_uri": "https://localhost:8080/"
        },
        "outputId": "1124cfd0-63f2-4d19-8f8b-2e03946eee85"
      },
      "execution_count": null,
      "outputs": [
        {
          "output_type": "stream",
          "name": "stdout",
          "text": [
            "Qual a razão dessa P.A?2\n",
            "Qual o primeiro número dessa P.A2\n",
            "Até qual termo você quer que ela vá?10\n",
            "2\n",
            "4\n",
            "6\n",
            "8\n",
            "10\n",
            "12\n",
            "14\n",
            "16\n",
            "18\n",
            "20\n"
          ]
        }
      ]
    },
    {
      "cell_type": "code",
      "source": [
        "#ex 13\n",
        "n1 = int(input('Qual a razão dessa P.A'))\n",
        "n2 = int(input('Digite o terceiro termo dessa P.A'))\n",
        "n3 = int(input('Até qual número você quer que vá?'))\n",
        "p1 = n2 - (2*n1)\n",
        "p2 = n2 - n1\n",
        "multiplicador = p1\n",
        "for c in range(n3):\n",
        "  print(f'{multiplicador}')\n",
        "  multiplicador += n1"
      ],
      "metadata": {
        "id": "_RCgWA4BJGyi",
        "colab": {
          "base_uri": "https://localhost:8080/"
        },
        "outputId": "bf753ea2-0aa4-4933-ad30-4a317dce6d0c"
      },
      "execution_count": null,
      "outputs": [
        {
          "output_type": "stream",
          "name": "stdout",
          "text": [
            "Qual a razão dessa P.A2\n",
            "Digite o terceiro termo dessa P.A6\n",
            "Até qual número você quer que vá?10\n",
            "2\n",
            "4\n",
            "6\n",
            "8\n",
            "10\n",
            "12\n",
            "14\n",
            "16\n",
            "18\n",
            "20\n"
          ]
        }
      ]
    },
    {
      "cell_type": "code",
      "source": [
        "#ex14\n",
        "n1 = int(input('Qual a razão dessa P.A '))\n",
        "n2 = int(input('Digite o quarto termo dessa P.A'))\n",
        "n3 = int(input('Até qual número você quer que vá? '))\n",
        "p1 = n2 - (3*n1)\n",
        "p2 = n2 - (2*n1)\n",
        "p3 = n2 - n1\n",
        "multiplicador = p1\n",
        "for c in range(n3):\n",
        "  print(f'{multiplicador}')\n",
        "  multiplicador += n1"
      ],
      "metadata": {
        "colab": {
          "base_uri": "https://localhost:8080/"
        },
        "id": "6s1UiO34qqO1",
        "outputId": "0846cfd4-7c58-46d9-8896-2f877f62a8ab"
      },
      "execution_count": null,
      "outputs": [
        {
          "output_type": "stream",
          "name": "stdout",
          "text": [
            "Qual a razão dessa P.A 2\n",
            "Digite o quarto termo dessa P.A8\n",
            "Até qual número você quer que vá?10\n",
            "2\n",
            "4\n",
            "6\n",
            "8\n",
            "10\n",
            "12\n",
            "14\n",
            "16\n",
            "18\n",
            "20\n"
          ]
        }
      ]
    },
    {
      "cell_type": "code",
      "source": [
        "#ex15\n",
        "n1 = int(input('Qual o primeiro termo da PG'))\n",
        "r = int(input('Qual a razão?'))\n",
        "p = int(input('ate qual número a PG vai?'))\n",
        "cont = 0\n",
        "while cont < p:\n",
        "  cont +=1\n",
        "  n1 *= r\n",
        "  print(n1)\n"
      ],
      "metadata": {
        "id": "Jk33WAZRIbfS",
        "colab": {
          "base_uri": "https://localhost:8080/"
        },
        "outputId": "5ac79e04-b0e8-494d-9b98-3b89d83358bc"
      },
      "execution_count": null,
      "outputs": [
        {
          "output_type": "stream",
          "name": "stdout",
          "text": [
            "Qual o primeiro termo da PG5\n",
            "Qual a razão?10\n",
            "ate qual número a PG vai?10\n",
            "50\n",
            "500\n",
            "5000\n",
            "50000\n",
            "500000\n",
            "5000000\n",
            "50000000\n",
            "500000000\n",
            "5000000000\n",
            "50000000000\n"
          ]
        }
      ]
    },
    {
      "cell_type": "code",
      "source": [
        "#ex 16\n",
        "n3 = int(input('Qualo terceiro termo da PG '))\n",
        "r = int(input('Qual a razão? '))\n",
        "p = int(input('Até qual termo vai essa PG?'))\n",
        "cont = 0\n",
        "n2 = n3 / r\n",
        "n1 = n2 / r\n",
        "while p <= 3:\n",
        "  p = int(input('Até qual termo vai essa PG? (maior do que 3)'))\n",
        "while cont < p:\n",
        "  cont += 1\n",
        "  print(n1)\n",
        "  n1 *= r"
      ],
      "metadata": {
        "colab": {
          "base_uri": "https://localhost:8080/"
        },
        "id": "37Mf5svbqxLF",
        "outputId": "e6388b39-78f1-4bef-9688-3429b2a4a7db"
      },
      "execution_count": null,
      "outputs": [
        {
          "output_type": "stream",
          "name": "stdout",
          "text": [
            "Qualo terceiro termo da PG 5000\n",
            "Qual a razão? 10\n",
            "Até qual termo vai essa PG?1\n",
            "Até qual termo vai essa PG?1\n",
            "Até qual termo vai essa PG?1\n",
            "Até qual termo vai essa PG?1\n",
            "Até qual termo vai essa PG?10\n",
            "50.0\n",
            "500.0\n",
            "5000.0\n",
            "50000.0\n",
            "500000.0\n",
            "5000000.0\n",
            "50000000.0\n",
            "500000000.0\n",
            "5000000000.0\n",
            "50000000000.0\n"
          ]
        }
      ]
    },
    {
      "cell_type": "code",
      "source": [
        "#17\n",
        "n1 = int(input('Qual o valor presente '))\n",
        "juros = float(input('Qual a taxa de juros em % ? '))/100\n",
        "tempo = int(input('Qual o período '))\n",
        "cont = 0\n",
        "jsimples = 0\n",
        "while cont < tempo:\n",
        "  cont += 1\n",
        "  jsimples += n1 * juros\n",
        "  print(f'O valor do {cont}º mês foi rendido foi {jsimples} em juros simples')"
      ],
      "metadata": {
        "colab": {
          "base_uri": "https://localhost:8080/"
        },
        "id": "BZw32GAXyT38",
        "outputId": "a3365414-e1f0-45cd-d483-9b06b69885ee"
      },
      "execution_count": null,
      "outputs": [
        {
          "output_type": "stream",
          "name": "stdout",
          "text": [
            "Qual o valor presente 100\n",
            "Qual a taxa de juros em % ? 5\n",
            "Qual o período 10\n",
            "O valor do 1º mês foi rendido foi 5.0 em juros simples\n",
            "O valor do 2º mês foi rendido foi 10.0 em juros simples\n",
            "O valor do 3º mês foi rendido foi 15.0 em juros simples\n",
            "O valor do 4º mês foi rendido foi 20.0 em juros simples\n",
            "O valor do 5º mês foi rendido foi 25.0 em juros simples\n",
            "O valor do 6º mês foi rendido foi 30.0 em juros simples\n",
            "O valor do 7º mês foi rendido foi 35.0 em juros simples\n",
            "O valor do 8º mês foi rendido foi 40.0 em juros simples\n",
            "O valor do 9º mês foi rendido foi 45.0 em juros simples\n",
            "O valor do 10º mês foi rendido foi 50.0 em juros simples\n"
          ]
        }
      ]
    },
    {
      "cell_type": "code",
      "source": [
        "#ex18\n",
        "n1 = float(input('Qual valor será depositado todos os meses? '))\n",
        "juros = float(input('Qual a taxa de juros mensal (em %)? ')) / 100\n",
        "temp = int(input('Quantos meses você quer deixar? '))\n",
        "montante = 0\n",
        "\n",
        "for c in range(1, temp + 1):\n",
        "    montante += n1\n",
        "    montante += montante * juros\n",
        "    print(f'Mês {c}: R${montante:.2f}')\n",
        "\n"
      ],
      "metadata": {
        "id": "Oj4iEqVP_S3j",
        "colab": {
          "base_uri": "https://localhost:8080/"
        },
        "outputId": "cbb0a16f-6d38-4060-f140-9ce850f86fe4"
      },
      "execution_count": null,
      "outputs": [
        {
          "output_type": "stream",
          "name": "stdout",
          "text": [
            "Qual valor será depositado todos os meses? 100\n",
            "Qual a taxa de juros mensal (em %)? 5\n",
            "Quantos meses você quer deixar? 10\n",
            "Mês 1: R$105.00\n",
            "Mês 2: R$215.25\n",
            "Mês 3: R$331.01\n",
            "Mês 4: R$452.56\n",
            "Mês 5: R$580.19\n",
            "Mês 6: R$714.20\n",
            "Mês 7: R$854.91\n",
            "Mês 8: R$1002.66\n",
            "Mês 9: R$1157.79\n",
            "Mês 10: R$1320.68\n"
          ]
        }
      ]
    },
    {
      "cell_type": "code",
      "source": [
        "#ex19\n",
        "n = int(input('Quantas provas são? '))\n",
        "soma_notas = 0\n",
        "soma_diferenca = 0\n",
        "i = 0\n",
        "\n",
        "while i < n:\n",
        "    nota = float(input(f'Nota da prova {i+1}: '))\n",
        "    soma_notas += nota\n",
        "    soma_diferenca += nota ** 2\n",
        "    i += 1\n",
        "\n",
        "media = soma_notas / n\n",
        "desvio_padrao = (soma_diferenca / n - media ** 2) ** 0.5\n",
        "print(f'\\nMédia: {media:.2f}')\n",
        "print(f'Desvio padrão: {desvio_padrao:.2f}')\n"
      ],
      "metadata": {
        "colab": {
          "base_uri": "https://localhost:8080/"
        },
        "id": "nvtMpKDncy30",
        "outputId": "007ef524-bccd-4734-adbf-fad345f0d723"
      },
      "execution_count": null,
      "outputs": [
        {
          "output_type": "stream",
          "name": "stdout",
          "text": [
            "Quantas provas são? 3\n",
            "Nota da prova 1: 8\n",
            "Nota da prova 2: 9\n",
            "Nota da prova 3: 6\n",
            "\n",
            "Média: 7.67\n",
            "Desvio padrão: 1.25\n"
          ]
        }
      ]
    },
    {
      "cell_type": "code",
      "source": [
        "#ex 20\n",
        "numero = int(input(\"Digite um número inteiro positivo: \"))\n",
        "binario = \"\"\n",
        "\n",
        "if numero == 0:''\n",
        "    binario = \"0\"\n",
        "else:\n",
        "    while numero > 0:\n",
        "        resto = numero % 2\n",
        "        binario = str(resto) + binario\n",
        "        numero = numero // 2\n",
        "\n",
        "print(binario)"
      ],
      "metadata": {
        "colab": {
          "base_uri": "https://localhost:8080/"
        },
        "id": "mBc4gzkxuNda",
        "outputId": "af7082b1-09bf-4653-eea3-f3f8ea8c1e83"
      },
      "execution_count": null,
      "outputs": [
        {
          "output_type": "stream",
          "name": "stdout",
          "text": [
            "Digite um número inteiro positivo: 10\n",
            "1010\n"
          ]
        }
      ]
    },
    {
      "cell_type": "code",
      "source": [],
      "metadata": {
        "id": "e1RQXRoBpB2g"
      },
      "execution_count": null,
      "outputs": []
    }
  ]
}