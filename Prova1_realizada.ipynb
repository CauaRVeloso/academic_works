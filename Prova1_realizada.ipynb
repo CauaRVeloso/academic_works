{
  "nbformat": 4,
  "nbformat_minor": 0,
  "metadata": {
    "colab": {
      "provenance": []
    },
    "kernelspec": {
      "name": "python3",
      "display_name": "Python 3"
    },
    "language_info": {
      "name": "python"
    }
  },
  "cells": [
    {
      "cell_type": "markdown",
      "source": [
        "### INSTRUÇÕES\n",
        "\n",
        " - Fazer os exercícios em um arquivo notebook (de extensão *.ipynb)  \n",
        " - Exercícios que pedem entrada de usuário deverão ter valores fixados. Exemplo:  \n",
        "    num = 6 #int(input('Digite um número inteiro')\n",
        " - As questões deverão ser respondidas em ordem.\n",
        " - Prefira fazer no Google Colab. Questões resolvidas em outras IDEs não terão assistência (pode utilizar, mas terá que resolver os problemas da IDE sozinho).\n",
        " - Todas as questões deverão ter uma explicação breve de como você pensou na solução (pode ser em uma nova célula).\n",
        " - Cópias de soluções zerarão a questão dos dois fraudadores.\n",
        " - Cópias de outros lugares zerarão a questão.\n",
        " - Uso de recursos não vistos em aula zerarão a questão.\n",
        " - Colocar seu nome, curso e dia da semana no início do notebook (dê um clique duplo e edite a célula).\n",
        " - Seu código não deverá apresentar erro ao **executar tudo** (fazer esse teste antes de entregar. O \"executar tudo\" está em \"Ambiente de execução\" no Google Colab."
      ],
      "metadata": {
        "id": "2zy40S-oGIta"
      }
    },
    {
      "cell_type": "markdown",
      "source": [
        "### Dados\n",
        "Nome: Cauã Eduardo Rezende Veloso  \n",
        "Curso: Engenharia de Software        \n",
        "Dia da semana:  Quarta\n"
      ],
      "metadata": {
        "id": "I9ysRuzvHIQz"
      }
    },
    {
      "cell_type": "markdown",
      "source": [
        "1)\tFaça um programa que peça o ano de nascimento e mostra a idade do usuário no fim de 2025 e o ano que esse usuário fez ou fará 50 anos."
      ],
      "metadata": {
        "id": "Xr0tJjshfpG8"
      }
    },
    {
      "cell_type": "code",
      "source": [
        "ano = 2007 #int(input(\"Qual ano você nasceu?: \"))\n",
        "calc_atual = 2025 - ano\n",
        "calc_idade = 50 - calc_atual\n",
        "if calc_atual > 50:\n",
        "    calc_passado = 2025 + calc_idade\n",
        "    print(f'Você fez 50 anos no ano de {calc_passado}')\n",
        "    print(f'No fim do ano de 2025 você terá {calc_atual} anos')\n",
        "else:\n",
        "    calc_ano = 2025 + calc_idade\n",
        "    print(f'No fim do ano de 2025 você terá {calc_atual} anos')\n",
        "    print(f'Você fará 50 anos no ano de {calc_ano}')\n",
        "\n",
        "# O código é feito através de um cálculo do ano atual(2025) menos o ano que a pessoa nasceu, assim descobriremos a idade dela no final de 2025\n",
        "# E calculamos quanto tempo falta para a pessoa fazer 50 anos através da subtração entre 50 e a idade atual, se for negativo, modulamos e calculamos o número em subtração com o ano atual\n"
      ],
      "metadata": {
        "id": "h5AEQikXfoCh",
        "colab": {
          "base_uri": "https://localhost:8080/"
        },
        "outputId": "6fcc357e-9c20-453d-c670-c355d0501ace"
      },
      "execution_count": 117,
      "outputs": [
        {
          "output_type": "stream",
          "name": "stdout",
          "text": [
            "No fim do ano de 2025 você terá 18 anos\n",
            "Você fará 50 anos no ano de 2057\n"
          ]
        }
      ]
    },
    {
      "cell_type": "code",
      "source": [],
      "metadata": {
        "id": "df7txZhjfn_k"
      },
      "execution_count": 117,
      "outputs": []
    },
    {
      "cell_type": "markdown",
      "source": [
        "2)\t Faça um programa que peça números inteiros ao usuário e conta quantos números positivos e quantos números negativos foram digitados. O programa deverá parar quando o número zero for digitado, mostrando na tela os resultados. Além disso, o programa deverá informar se há mais números positivos, mais números negativos ou se há a mesma quantidade."
      ],
      "metadata": {
        "id": "kx8EMup9fu_j"
      }
    },
    {
      "cell_type": "code",
      "source": [
        "cont_neg = 0\n",
        "cont_pos = 0\n",
        "ent = 0\n",
        "\n",
        "while ent == 1:\n",
        "    num = int(input(\"Digite um número inteiro (Zero pra sair): \"))\n",
        "    if num < 0:\n",
        "        cont_neg += 1\n",
        "    elif num == 0:\n",
        "        break\n",
        "    else:\n",
        "        cont_pos += 1\n",
        "\n",
        "if cont_pos > cont_neg:\n",
        "    print(f'A quantidade de positivos digitados foram maior que a de negativos\\nQuantidade de positivos digitados: {cont_pos}\\nQuantidade de negativos digitados: {cont_neg}')\n",
        "elif cont_pos == cont_neg:\n",
        "    print(f'A quantidade de positivos e negativos digitados foram iguais\\nQuantidade de negativos e positivos: {cont_pos}')\n",
        "else:\n",
        "    print(f'A quantidade de negativos digitados foram maiores que a de positivos\\nQuantidade de positivos digitados: {cont_pos}\\nQuantidade de negativos digitados: {cont_neg}')\n",
        "\n",
        "#Calculamos a quantidade de números digitados através da comparação entre se o número inserido é positivo ou negativo e adicionando a um contador, realizado por um laço de repetição"
      ],
      "metadata": {
        "id": "sVwWM-7Efn8L",
        "colab": {
          "base_uri": "https://localhost:8080/"
        },
        "outputId": "6851663e-690b-4e41-88f9-e224df157f07"
      },
      "execution_count": 118,
      "outputs": [
        {
          "output_type": "stream",
          "name": "stdout",
          "text": [
            "A quantidade de positivos e negativos digitados foram iguais\n",
            "Quantidade de negativos e positivos: 0\n"
          ]
        }
      ]
    },
    {
      "cell_type": "code",
      "source": [],
      "metadata": {
        "id": "238226Qzf0uq"
      },
      "execution_count": 118,
      "outputs": []
    },
    {
      "cell_type": "markdown",
      "source": [
        "3) \tFaça um programa que converta a temperatura de graus Celsius para graus Farenheit ou vice-versa. O programa deverá perguntar se a temperatura de entrada está em Celsius ou Farenheit e mostrar a temperatura digitada convertida para a outra unidade. Fórmulas úteis:  $$C=\\frac{5(F-32)}{9}$$,   $$F=\\frac{9C}{5}+32$$."
      ],
      "metadata": {
        "id": "I1XP2jRpf1lt"
      }
    },
    {
      "cell_type": "code",
      "source": [
        "unidade = 1 #input(\"Qual é a unidade da temperatura que você quer converter??(1-CELSIUS ou 2-FAHRENHEIT): \")\n",
        "temp = 91 #float(input(\"Qual é a temperatura que você quer converter?: \"))\n",
        "if unidade == 1:\n",
        "    calc_celsius = (5*(temp-32))/9\n",
        "    print(f\"A temperatura em celsius do valor digitado é {calc_celsius:.2f}\")\n",
        "else:\n",
        "    calc_fahrenheit = ((9*temp)/5)+32\n",
        "    print(f'A temperatura em fahrenheit do valor digitado é {calc_fahrenheit:.2f}')\n",
        "\n",
        "    #O cálculo da temperatura é feito através de um if e else, onde dependendo da unidade de entrada, ele utiliza duas fórmulas distintas"
      ],
      "metadata": {
        "id": "HzYZeAfef1HF",
        "colab": {
          "base_uri": "https://localhost:8080/"
        },
        "outputId": "1d7a5f12-ce55-4169-b6ad-7dcfd130fa7e"
      },
      "execution_count": 119,
      "outputs": [
        {
          "output_type": "stream",
          "name": "stdout",
          "text": [
            "A temperatura em celsius do valor digitado é 32.78\n"
          ]
        }
      ]
    },
    {
      "cell_type": "code",
      "source": [],
      "metadata": {
        "id": "0x74TOKNf8Pp"
      },
      "execution_count": 119,
      "outputs": []
    },
    {
      "cell_type": "markdown",
      "source": [
        "4) \tFaça um programa que, dado um número n maior que 5, mostra a primeira letra do **seu primeiro nome** feita com n linhas contendo a letra x. Esse programa deverá ter, no máximo, 4 laços de repetição. Obs.: Pessoas com nomes iniciados com a letra I deverão fazer com a **segunda** letra do primeiro nome.  \n",
        "Exemplo: n = 6 (letra A):  \n"
      ],
      "metadata": {
        "id": "zx4Qm4wIgmC2"
      }
    },
    {
      "cell_type": "markdown",
      "source": [
        "\n",
        "```\n",
        "Digite um número maior que 5: 6\n",
        "      x     \n",
        "     x x    \n",
        "    x   x   \n",
        "   xxxxxxx  \n",
        "  x       x\n",
        " x         x\n",
        "```\n"
      ],
      "metadata": {
        "id": "UXh7UMeS6idi"
      }
    },
    {
      "cell_type": "markdown",
      "source": [
        "Exemplo: n = 8 (letra W):\n",
        "\n",
        "```\n",
        "Digite um número maior que 5: 8\n",
        " x                     x  \n",
        "  x                   x  \n",
        "   x                 x  \n",
        "    x       x       x  \n",
        "     x     x x     x  \n",
        "      x   x   x   x  \n",
        "       x x     x x  \n",
        "        x       x\n",
        "```\n"
      ],
      "metadata": {
        "id": "WU9XmzxI9n3l"
      }
    },
    {
      "cell_type": "code",
      "source": [
        "valor = 7#int(input(\"Digite um valor maior que 5: \"))\n",
        "\n",
        "for linha in range(1,valor):\n",
        "    print(\"x\", end=\" \")\n",
        "\n",
        "for coluna in range(1,valor+1):\n",
        "    print(\"x\")\n",
        "\n",
        "for linha in range(1,valor+1):\n",
        "    print(\"x\", end=\" \")\n",
        "\n",
        "# Utilizei o valor para construir através de um for, onde repete a quantidade de vezes colocada no valor inserido pelo usuário"
      ],
      "metadata": {
        "id": "DdO2Jw4B5I8B",
        "colab": {
          "base_uri": "https://localhost:8080/"
        },
        "outputId": "22bd7a3d-0437-454e-a710-8f3f1a963014"
      },
      "execution_count": 120,
      "outputs": [
        {
          "output_type": "stream",
          "name": "stdout",
          "text": [
            "x x x x x x x\n",
            "x\n",
            "x\n",
            "x\n",
            "x\n",
            "x\n",
            "x\n",
            "x x x x x x x "
          ]
        }
      ]
    },
    {
      "cell_type": "code",
      "source": [],
      "metadata": {
        "id": "PlK5-01yHb8S"
      },
      "execution_count": 120,
      "outputs": []
    },
    {
      "cell_type": "markdown",
      "source": [
        "5) Faça um programa que mostre o seguinte padrão na tela, dado um número n:"
      ],
      "metadata": {
        "id": "Y8G9orQV5JdJ"
      }
    },
    {
      "cell_type": "markdown",
      "source": [
        "Digite um número inteiro positivo: 6  \n",
        "1  \n",
        "7 2  \n",
        "12 8 3  \n",
        "16 13 9 4  \n",
        "19 17 14 10 5  \n",
        "21 20 18 15 11 6"
      ],
      "metadata": {
        "id": "V2nNYQo95j1l"
      }
    },
    {
      "cell_type": "markdown",
      "source": [
        "Digite um número inteiro positivo: 4  \n",
        "1  \n",
        "5 2  \n",
        "8 6 3  \n",
        "10 9 7 4  "
      ],
      "metadata": {
        "id": "vWmTrxz05tPQ"
      }
    },
    {
      "cell_type": "code",
      "source": [
        "num = 6#int(input(\"Escolha um número inteiro positivo: \"))\n",
        "cont = 1\n",
        "\n",
        "\n",
        "for linha in range(1, num+1):\n",
        "    val = cont\n",
        "    for coluna in range(linha):\n",
        "        print(val, end=' ')\n",
        "        val -= num - linha + coluna + 1\n",
        "    print()\n",
        "    cont += num - linha + 1\n",
        "\n",
        "# Utilizei as linhas para calcular os números finais e percebi o padrão que o próximo número seguia uma sequência de soma do número colocado pelo usuário menos 1, sendo o menor valor = 1\n",
        "# Utilizei um for para organizar as linhas e o outro para organizar os números"
      ],
      "metadata": {
        "id": "dDlYfLqnf8TH",
        "colab": {
          "base_uri": "https://localhost:8080/"
        },
        "outputId": "68e5da3f-c749-42a6-e00e-7df0a007a399"
      },
      "execution_count": 121,
      "outputs": [
        {
          "output_type": "stream",
          "name": "stdout",
          "text": [
            "1 \n",
            "7 2 \n",
            "12 8 3 \n",
            "16 13 9 4 \n",
            "19 17 14 10 5 \n",
            "21 20 18 15 11 6 \n"
          ]
        }
      ]
    },
    {
      "cell_type": "code",
      "source": [],
      "metadata": {
        "id": "zv4DBsqY4qk3"
      },
      "execution_count": 121,
      "outputs": []
    },
    {
      "cell_type": "code",
      "source": [],
      "metadata": {
        "id": "EjUWIte44qWX"
      },
      "execution_count": 121,
      "outputs": []
    }
  ]
}