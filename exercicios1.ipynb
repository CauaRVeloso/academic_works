{
  "nbformat": 4,
  "nbformat_minor": 0,
  "metadata": {
    "colab": {
      "provenance": []
    },
    "kernelspec": {
      "name": "python3",
      "display_name": "Python 3"
    },
    "language_info": {
      "name": "python"
    }
  },
  "cells": [
    {
      "cell_type": "code",
      "execution_count": null,
      "metadata": {
        "colab": {
          "base_uri": "https://localhost:8080/"
        },
        "id": "zQiJt2Mkclqe",
        "outputId": "4ac7d05d-4d44-4c96-8577-bafcb545ded1"
      },
      "outputs": [
        {
          "output_type": "stream",
          "name": "stdout",
          "text": [
            "Digite sua nota: 4\n",
            "Qual é o seu percentual de presença?: 80\n",
            "Aprovado\n"
          ]
        }
      ],
      "source": [
        "nota=float(input(\"Digite sua nota: \"))\n",
        "percentual=float(input(\"Qual é o seu percentual de presença?: \"))\n",
        "\n",
        "if nota>=7:\n",
        "  print(\"Aprovado\")\n",
        "elif percentual>=75:\n",
        "  print(\"Aprovado\")\n",
        "else:\n",
        "  print(\"Reprovado\")\n",
        "\n",
        "\n"
      ]
    },
    {
      "cell_type": "code",
      "source": [
        "num=int(input(\"Digite um número: \"))\n",
        "if num%2==0:\n",
        "    print(f'o número {num} é par')\n",
        "else:\n",
        "    print(f'o número {num} é impar')"
      ],
      "metadata": {
        "colab": {
          "base_uri": "https://localhost:8080/"
        },
        "id": "hEXdf0713GaI",
        "outputId": "c3cd9cd7-8e3e-4e8a-b95a-a85acd9775e4"
      },
      "execution_count": null,
      "outputs": [
        {
          "output_type": "stream",
          "name": "stdout",
          "text": [
            "Digite um número: 788\n",
            "o número 788 é par\n"
          ]
        }
      ]
    },
    {
      "cell_type": "code",
      "source": [
        "cinco=input(\"Digite seu nome: \"),print(\"O seu nome é \", cinco)"
      ],
      "metadata": {
        "colab": {
          "base_uri": "https://localhost:8080/",
          "height": 293
        },
        "id": "oGBkVw1_5eRM",
        "outputId": "5f96dfab-a977-4c36-9f9c-7f78991cee63"
      },
      "execution_count": null,
      "outputs": [
        {
          "output_type": "error",
          "ename": "KeyboardInterrupt",
          "evalue": "Interrupted by user",
          "traceback": [
            "\u001b[0;31m---------------------------------------------------------------------------\u001b[0m",
            "\u001b[0;31mKeyboardInterrupt\u001b[0m                         Traceback (most recent call last)",
            "\u001b[0;32m<ipython-input-42-e08e1443f3a9>\u001b[0m in \u001b[0;36m<cell line: 0>\u001b[0;34m()\u001b[0m\n\u001b[0;32m----> 1\u001b[0;31m \u001b[0mcinco\u001b[0m\u001b[0;34m=\u001b[0m\u001b[0minput\u001b[0m\u001b[0;34m(\u001b[0m\u001b[0;34m\"Digite seu nome: \"\u001b[0m\u001b[0;34m)\u001b[0m\u001b[0;34m,\u001b[0m\u001b[0mprint\u001b[0m\u001b[0;34m(\u001b[0m\u001b[0;34m\"O seu nome é \"\u001b[0m\u001b[0;34m,\u001b[0m \u001b[0mcinco\u001b[0m\u001b[0;34m)\u001b[0m\u001b[0;34m\u001b[0m\u001b[0;34m\u001b[0m\u001b[0m\n\u001b[0m",
            "\u001b[0;32m/usr/local/lib/python3.11/dist-packages/ipykernel/kernelbase.py\u001b[0m in \u001b[0;36mraw_input\u001b[0;34m(self, prompt)\u001b[0m\n\u001b[1;32m   1175\u001b[0m                 \u001b[0;34m\"raw_input was called, but this frontend does not support input requests.\"\u001b[0m\u001b[0;34m\u001b[0m\u001b[0;34m\u001b[0m\u001b[0m\n\u001b[1;32m   1176\u001b[0m             )\n\u001b[0;32m-> 1177\u001b[0;31m         return self._input_request(\n\u001b[0m\u001b[1;32m   1178\u001b[0m             \u001b[0mstr\u001b[0m\u001b[0;34m(\u001b[0m\u001b[0mprompt\u001b[0m\u001b[0;34m)\u001b[0m\u001b[0;34m,\u001b[0m\u001b[0;34m\u001b[0m\u001b[0;34m\u001b[0m\u001b[0m\n\u001b[1;32m   1179\u001b[0m             \u001b[0mself\u001b[0m\u001b[0;34m.\u001b[0m\u001b[0m_parent_ident\u001b[0m\u001b[0;34m[\u001b[0m\u001b[0;34m\"shell\"\u001b[0m\u001b[0;34m]\u001b[0m\u001b[0;34m,\u001b[0m\u001b[0;34m\u001b[0m\u001b[0;34m\u001b[0m\u001b[0m\n",
            "\u001b[0;32m/usr/local/lib/python3.11/dist-packages/ipykernel/kernelbase.py\u001b[0m in \u001b[0;36m_input_request\u001b[0;34m(self, prompt, ident, parent, password)\u001b[0m\n\u001b[1;32m   1217\u001b[0m             \u001b[0;32mexcept\u001b[0m \u001b[0mKeyboardInterrupt\u001b[0m\u001b[0;34m:\u001b[0m\u001b[0;34m\u001b[0m\u001b[0;34m\u001b[0m\u001b[0m\n\u001b[1;32m   1218\u001b[0m                 \u001b[0;31m# re-raise KeyboardInterrupt, to truncate traceback\u001b[0m\u001b[0;34m\u001b[0m\u001b[0;34m\u001b[0m\u001b[0m\n\u001b[0;32m-> 1219\u001b[0;31m                 \u001b[0;32mraise\u001b[0m \u001b[0mKeyboardInterrupt\u001b[0m\u001b[0;34m(\u001b[0m\u001b[0;34m\"Interrupted by user\"\u001b[0m\u001b[0;34m)\u001b[0m \u001b[0;32mfrom\u001b[0m \u001b[0;32mNone\u001b[0m\u001b[0;34m\u001b[0m\u001b[0;34m\u001b[0m\u001b[0m\n\u001b[0m\u001b[1;32m   1220\u001b[0m             \u001b[0;32mexcept\u001b[0m \u001b[0mException\u001b[0m\u001b[0;34m:\u001b[0m\u001b[0;34m\u001b[0m\u001b[0;34m\u001b[0m\u001b[0m\n\u001b[1;32m   1221\u001b[0m                 \u001b[0mself\u001b[0m\u001b[0;34m.\u001b[0m\u001b[0mlog\u001b[0m\u001b[0;34m.\u001b[0m\u001b[0mwarning\u001b[0m\u001b[0;34m(\u001b[0m\u001b[0;34m\"Invalid Message:\"\u001b[0m\u001b[0;34m,\u001b[0m \u001b[0mexc_info\u001b[0m\u001b[0;34m=\u001b[0m\u001b[0;32mTrue\u001b[0m\u001b[0;34m)\u001b[0m\u001b[0;34m\u001b[0m\u001b[0;34m\u001b[0m\u001b[0m\n",
            "\u001b[0;31mKeyboardInterrupt\u001b[0m: Interrupted by user"
          ]
        }
      ]
    },
    {
      "cell_type": "code",
      "source": [
        "primeiro = input(\"Qual é seu primeiro nome?: \")\n",
        "segundo = input(\"Qual é o seu segundo nome?: \")\n",
        "print (primeiro,segundo)"
      ],
      "metadata": {
        "colab": {
          "base_uri": "https://localhost:8080/"
        },
        "id": "2k6178cN5jCT",
        "outputId": "3481d634-0bda-44c5-f259-9e29889c5ada"
      },
      "execution_count": null,
      "outputs": [
        {
          "output_type": "stream",
          "name": "stdout",
          "text": [
            "Qual é seu primeiro nome?: Cauã\n",
            "Qual é o seu segundo nome?: Veloso\n",
            "Cauã Veloso\n"
          ]
        }
      ]
    },
    {
      "cell_type": "code",
      "source": [
        "print (\" \\     / \\n  \\   /  \\n   \\ / \\n   / \\ \\n  /   \\ \\n /     \\ \\n/       \\ \")"
      ],
      "metadata": {
        "colab": {
          "base_uri": "https://localhost:8080/"
        },
        "id": "4Pabpqny7NCH",
        "outputId": "683b4b07-eb1f-4480-c6e6-10e765209fd7"
      },
      "execution_count": null,
      "outputs": [
        {
          "output_type": "stream",
          "name": "stdout",
          "text": [
            " \\     / \n",
            "  \\   /  \n",
            "   \\ / \n",
            "   / \\ \n",
            "  /   \\ \n",
            " /     \\ \n",
            "/       \\ \n"
          ]
        }
      ]
    },
    {
      "cell_type": "code",
      "source": [
        "dia = int(input(\"Qual dia você nasceu? \"))\n",
        "mes = int(input(\"Qual é o número do mês que você nasceu? \"))\n",
        "if dia == 2 and mes == 4:\n",
        "    print(\"Parabéns!!!\")\n",
        "\n",
        "\n",
        "elif mes == 1:\n",
        "    janeiro = 94 - dia\n",
        "    print(f\"Passou {janeiro} dias do seu aniversário\")\n",
        "\n",
        "elif mes == 2:\n",
        "    fevereiro = 62 - dia\n",
        "    print(f\"Passou {fevereiro} dias do seu aniversário\")\n",
        "\n",
        "elif mes == 3:\n",
        "    março = 33 - dia\n",
        "    print(f\"Passou {março} dias do seu aniversário\")\n",
        "\n",
        "elif dia < 2 and mes == 4:\n",
        "    print(\"Parabéns atrasado!! Passou um dia do seu aniversário\")\n",
        "\n",
        "elif dia == 1 and mes == 5:\n",
        "    maio = 28 + dia\n",
        "    print(f'Faltam {maio} dias pro seu aniversário')\n",
        "\n",
        "elif mes == 6:\n",
        "    junho= 59 + dia\n",
        "    print(f\"Faltam {junho} dias pro seu aniversário\")\n",
        "\n",
        "elif mes == 7:\n",
        "    julho = 89 + dia\n",
        "    print(f\"Faltam {julho} dias pro seu aniversário\")\n",
        "\n",
        "elif mes == 8:\n",
        "    agosto = 120 + dia\n",
        "    print(f'Faltam {agosto} dias pro seu aniversário')\n",
        "\n",
        "elif mes == 9:\n",
        "    setembro = 151 + dia\n",
        "    print(f'Faltam {setembro} dias pro seu aniversário')\n",
        "\n",
        "elif mes == 10:\n",
        "    outubro = 181 + dia\n",
        "    print(f'Faltam {outubro} dias pro seu aniversário')\n",
        "\n",
        "elif mes == 11:\n",
        "    novembro = 212 + dia\n",
        "    print(f'Faltam {novembro} dias pro seu aniversário')\n",
        "\n",
        "elif mes == 12:\n",
        "    dezembro = 242 + dia\n",
        "    print(f'Faltam {dezembro} dias pro seu aniversário')\n",
        "\n",
        "\n",
        "else:\n",
        "    dia2 = dia - 2\n",
        "    print(f'Faltam {dia2} dias pro seu aniversário')\n"
      ],
      "metadata": {
        "id": "rJ7AV9Xch2L_"
      },
      "execution_count": null,
      "outputs": []
    },
    {
      "cell_type": "code",
      "source": [
        "produto = float(input(\"Coloque o preço do produto: \"))\n",
        "desconto = produto * 0.2\n",
        "\n",
        "print(f'O preço tem o preço original de R${produto:.2f} \\n O desconto é de R${desconto:.2f} \\n O preço final é de R${produto-desconto:.2f}')"
      ],
      "metadata": {
        "colab": {
          "base_uri": "https://localhost:8080/"
        },
        "id": "4I_d35Qv4OeL",
        "outputId": "9b40980c-94e7-47b4-ee6a-9113ea051540"
      },
      "execution_count": null,
      "outputs": [
        {
          "output_type": "stream",
          "name": "stdout",
          "text": [
            "Coloque o preço do produto: 50\n",
            "O preço tem o preço original de R$50.00 \n",
            " O desconto é de R$10.00 \n",
            " O preço final é de R$40.00\n"
          ]
        }
      ]
    },
    {
      "cell_type": "code",
      "source": [
        "produto = float(input(\"Coloque o preço do produto: \"))\n",
        "desconto = float(input(\"Coloque o valor do desconto: \").replace(\"%\", \"\"))\n",
        "desconto2 = desconto / 100\n",
        "final = produto * desconto2\n",
        "print(f' O preço tem o preço original de R${produto:.2f} \\n O desconto é de {desconto:.0f}% \\n O preço final é de R${produto-final:.2f}')"
      ],
      "metadata": {
        "colab": {
          "base_uri": "https://localhost:8080/"
        },
        "id": "imLoIkOs434t",
        "outputId": "666a7d05-4f3d-4e55-867e-98da441ec838"
      },
      "execution_count": null,
      "outputs": [
        {
          "output_type": "stream",
          "name": "stdout",
          "text": [
            "Coloque o preço do produto: 42\n",
            "Coloque o valor do desconto: 30%\n",
            " O preço tem o preço original de R$42.00 \n",
            " O desconto é de 30% \n",
            " O preço final é de R$29.40\n"
          ]
        }
      ]
    },
    {
      "cell_type": "code",
      "source": [
        "num1 = float(input(\"Escolha um número: \"))\n",
        "num2 = float(input(\"Escolha outro número: \"))\n",
        "num3 = float(input(\"Escolha mais um número: \"))\n",
        "\n",
        "med = (num1 + num2 + num3) / 3\n",
        "\n",
        "print(f\"A média é {med:.2f}\")"
      ],
      "metadata": {
        "colab": {
          "base_uri": "https://localhost:8080/"
        },
        "id": "bXU_4T-q7ghz",
        "outputId": "b67a07cf-7695-4da0-d8a2-061c8a888ea9"
      },
      "execution_count": null,
      "outputs": [
        {
          "output_type": "stream",
          "name": "stdout",
          "text": [
            "Escolha um número: 10\n",
            "Escolha outro número: 20\n",
            "Escolha mais um número: 30\n",
            "A média é 20.00\n"
          ]
        }
      ]
    },
    {
      "cell_type": "code",
      "source": [
        "num1 = int(input(\"Escolha um número: \"))\n",
        "num2 = int(input(\"Escolha outro número: \"))\n",
        "num3 = int(input(\"Escolha mais um número: \"))\n",
        "num4 = int(input(\"Escolha mais um número: \"))\n",
        "\n",
        "med = (num1 + num2 + num3 + num4) / 4\n",
        "geo = (num1 * num2 * num3 * num4) ** (1/4)\n",
        "harm = 4 / ((1/num1) + (1/num2) + (1/num3) + (1/num4))\n",
        "print(f\"A média é {med:.2f}\")\n",
        "print(f'A média geométrica é {geo:.2f}')\n",
        "print(f'A média harmônica é {harm}')\n"
      ],
      "metadata": {
        "colab": {
          "base_uri": "https://localhost:8080/",
          "height": 365
        },
        "id": "BzUfvn-4-0a7",
        "outputId": "8ec771ea-a4d8-4ad6-e40d-6636b36af31d"
      },
      "execution_count": null,
      "outputs": [
        {
          "output_type": "error",
          "ename": "KeyboardInterrupt",
          "evalue": "Interrupted by user",
          "traceback": [
            "\u001b[0;31m---------------------------------------------------------------------------\u001b[0m",
            "\u001b[0;31mKeyboardInterrupt\u001b[0m                         Traceback (most recent call last)",
            "\u001b[0;32m<ipython-input-15-09fbf8fdb571>\u001b[0m in \u001b[0;36m<cell line: 0>\u001b[0;34m()\u001b[0m\n\u001b[0;32m----> 1\u001b[0;31m \u001b[0mnum1\u001b[0m \u001b[0;34m=\u001b[0m \u001b[0mint\u001b[0m\u001b[0;34m(\u001b[0m\u001b[0minput\u001b[0m\u001b[0;34m(\u001b[0m\u001b[0;34m\"Escolha um número: \"\u001b[0m\u001b[0;34m)\u001b[0m\u001b[0;34m)\u001b[0m\u001b[0;34m\u001b[0m\u001b[0;34m\u001b[0m\u001b[0m\n\u001b[0m\u001b[1;32m      2\u001b[0m \u001b[0mnum2\u001b[0m \u001b[0;34m=\u001b[0m \u001b[0mint\u001b[0m\u001b[0;34m(\u001b[0m\u001b[0minput\u001b[0m\u001b[0;34m(\u001b[0m\u001b[0;34m\"Escolha outro número: \"\u001b[0m\u001b[0;34m)\u001b[0m\u001b[0;34m)\u001b[0m\u001b[0;34m\u001b[0m\u001b[0;34m\u001b[0m\u001b[0m\n\u001b[1;32m      3\u001b[0m \u001b[0mnum3\u001b[0m \u001b[0;34m=\u001b[0m \u001b[0mint\u001b[0m\u001b[0;34m(\u001b[0m\u001b[0minput\u001b[0m\u001b[0;34m(\u001b[0m\u001b[0;34m\"Escolha mais um número: \"\u001b[0m\u001b[0;34m)\u001b[0m\u001b[0;34m)\u001b[0m\u001b[0;34m\u001b[0m\u001b[0;34m\u001b[0m\u001b[0m\n\u001b[1;32m      4\u001b[0m \u001b[0mnum4\u001b[0m \u001b[0;34m=\u001b[0m \u001b[0mint\u001b[0m\u001b[0;34m(\u001b[0m\u001b[0minput\u001b[0m\u001b[0;34m(\u001b[0m\u001b[0;34m\"Escolha mais um número: \"\u001b[0m\u001b[0;34m)\u001b[0m\u001b[0;34m)\u001b[0m\u001b[0;34m\u001b[0m\u001b[0;34m\u001b[0m\u001b[0m\n\u001b[1;32m      5\u001b[0m \u001b[0;34m\u001b[0m\u001b[0m\n",
            "\u001b[0;32m/usr/local/lib/python3.11/dist-packages/ipykernel/kernelbase.py\u001b[0m in \u001b[0;36mraw_input\u001b[0;34m(self, prompt)\u001b[0m\n\u001b[1;32m   1175\u001b[0m                 \u001b[0;34m\"raw_input was called, but this frontend does not support input requests.\"\u001b[0m\u001b[0;34m\u001b[0m\u001b[0;34m\u001b[0m\u001b[0m\n\u001b[1;32m   1176\u001b[0m             )\n\u001b[0;32m-> 1177\u001b[0;31m         return self._input_request(\n\u001b[0m\u001b[1;32m   1178\u001b[0m             \u001b[0mstr\u001b[0m\u001b[0;34m(\u001b[0m\u001b[0mprompt\u001b[0m\u001b[0;34m)\u001b[0m\u001b[0;34m,\u001b[0m\u001b[0;34m\u001b[0m\u001b[0;34m\u001b[0m\u001b[0m\n\u001b[1;32m   1179\u001b[0m             \u001b[0mself\u001b[0m\u001b[0;34m.\u001b[0m\u001b[0m_parent_ident\u001b[0m\u001b[0;34m[\u001b[0m\u001b[0;34m\"shell\"\u001b[0m\u001b[0;34m]\u001b[0m\u001b[0;34m,\u001b[0m\u001b[0;34m\u001b[0m\u001b[0;34m\u001b[0m\u001b[0m\n",
            "\u001b[0;32m/usr/local/lib/python3.11/dist-packages/ipykernel/kernelbase.py\u001b[0m in \u001b[0;36m_input_request\u001b[0;34m(self, prompt, ident, parent, password)\u001b[0m\n\u001b[1;32m   1217\u001b[0m             \u001b[0;32mexcept\u001b[0m \u001b[0mKeyboardInterrupt\u001b[0m\u001b[0;34m:\u001b[0m\u001b[0;34m\u001b[0m\u001b[0;34m\u001b[0m\u001b[0m\n\u001b[1;32m   1218\u001b[0m                 \u001b[0;31m# re-raise KeyboardInterrupt, to truncate traceback\u001b[0m\u001b[0;34m\u001b[0m\u001b[0;34m\u001b[0m\u001b[0m\n\u001b[0;32m-> 1219\u001b[0;31m                 \u001b[0;32mraise\u001b[0m \u001b[0mKeyboardInterrupt\u001b[0m\u001b[0;34m(\u001b[0m\u001b[0;34m\"Interrupted by user\"\u001b[0m\u001b[0;34m)\u001b[0m \u001b[0;32mfrom\u001b[0m \u001b[0;32mNone\u001b[0m\u001b[0;34m\u001b[0m\u001b[0;34m\u001b[0m\u001b[0m\n\u001b[0m\u001b[1;32m   1220\u001b[0m             \u001b[0;32mexcept\u001b[0m \u001b[0mException\u001b[0m\u001b[0;34m:\u001b[0m\u001b[0;34m\u001b[0m\u001b[0;34m\u001b[0m\u001b[0m\n\u001b[1;32m   1221\u001b[0m                 \u001b[0mself\u001b[0m\u001b[0;34m.\u001b[0m\u001b[0mlog\u001b[0m\u001b[0;34m.\u001b[0m\u001b[0mwarning\u001b[0m\u001b[0;34m(\u001b[0m\u001b[0;34m\"Invalid Message:\"\u001b[0m\u001b[0;34m,\u001b[0m \u001b[0mexc_info\u001b[0m\u001b[0;34m=\u001b[0m\u001b[0;32mTrue\u001b[0m\u001b[0;34m)\u001b[0m\u001b[0;34m\u001b[0m\u001b[0;34m\u001b[0m\u001b[0m\n",
            "\u001b[0;31mKeyboardInterrupt\u001b[0m: Interrupted by user"
          ]
        }
      ]
    },
    {
      "cell_type": "code",
      "source": [
        "\n",
        "num1 = float(input(\"Escolha um número: \"))\n",
        "num2 = float(input(\"Escolha outro número: \"))\n",
        "num3 = float(input(\"Escolha mais um número: \"))\n",
        "num4 = float(input(\"Escolha outro um número: \"))\n",
        "\n",
        "med_arit = (num1 + num2 + num3 + num4) / 4\n",
        "val1 = (num1 - med_arit)**2\n",
        "val2 = (num2 - med_arit)**2\n",
        "val3 = (num3 - med_arit)**2\n",
        "val4 = (num4 - med_arit)**2\n",
        "var = (val1 + val2 + val3 + val4) / 4\n",
        "desv = var**(1/2)\n",
        "\n",
        "print(f'A média aritmética é {med_arit}\\n A variância é {var}\\n O desvio padrão é de {desv:.2f}')\n",
        "\n",
        "\n",
        "\n",
        "\n"
      ],
      "metadata": {
        "colab": {
          "base_uri": "https://localhost:8080/"
        },
        "id": "3-xNkV4hAZ3h",
        "outputId": "95000ffc-dd7e-4dd6-9b87-c066d949d0d3"
      },
      "execution_count": null,
      "outputs": [
        {
          "output_type": "stream",
          "name": "stdout",
          "text": [
            "Escolha um número: 10\n",
            "Escolha outro número: 50\n",
            "Escolha mais um número: 10\n",
            "Escolha outro um número: 20\n",
            "A média aritmética é 22.5\n",
            " A variância é 268.75\n",
            " O desvio padrão é de 16.39\n"
          ]
        }
      ]
    },
    {
      "cell_type": "code",
      "source": [
        "n1 = float(input(\"Escolha um número: \"))\n",
        "n2 = float(input(\"Escolha outro número: \"))\n",
        "n3 = float(input(\"Escolha mais um número: \"))\n",
        "\n",
        "if n1 > n2 and n1 > n2:\n",
        "    print(f'O número maior é {n1}')\n",
        "elif n2 > n3 and n2 > n1:\n",
        "    print(f'O número maior é {n2} ')\n",
        "else:\n",
        "    print(f'O número maior é {n3}')"
      ],
      "metadata": {
        "colab": {
          "base_uri": "https://localhost:8080/",
          "height": 365
        },
        "id": "wBImvZMvNPnn",
        "outputId": "66173a24-81a2-45b6-d098-d05c3cdde71f"
      },
      "execution_count": null,
      "outputs": [
        {
          "output_type": "error",
          "ename": "KeyboardInterrupt",
          "evalue": "Interrupted by user",
          "traceback": [
            "\u001b[0;31m---------------------------------------------------------------------------\u001b[0m",
            "\u001b[0;31mKeyboardInterrupt\u001b[0m                         Traceback (most recent call last)",
            "\u001b[0;32m<ipython-input-34-f90f7cbab902>\u001b[0m in \u001b[0;36m<cell line: 0>\u001b[0;34m()\u001b[0m\n\u001b[0;32m----> 1\u001b[0;31m \u001b[0mn1\u001b[0m \u001b[0;34m=\u001b[0m \u001b[0mfloat\u001b[0m\u001b[0;34m(\u001b[0m\u001b[0minput\u001b[0m\u001b[0;34m(\u001b[0m\u001b[0;34m\"Escolha um número: \"\u001b[0m\u001b[0;34m)\u001b[0m\u001b[0;34m)\u001b[0m\u001b[0;34m\u001b[0m\u001b[0;34m\u001b[0m\u001b[0m\n\u001b[0m\u001b[1;32m      2\u001b[0m \u001b[0mn2\u001b[0m \u001b[0;34m=\u001b[0m \u001b[0mfloat\u001b[0m\u001b[0;34m(\u001b[0m\u001b[0minput\u001b[0m\u001b[0;34m(\u001b[0m\u001b[0;34m\"Escolha outro número: \"\u001b[0m\u001b[0;34m)\u001b[0m\u001b[0;34m)\u001b[0m\u001b[0;34m\u001b[0m\u001b[0;34m\u001b[0m\u001b[0m\n\u001b[1;32m      3\u001b[0m \u001b[0mn3\u001b[0m \u001b[0;34m=\u001b[0m \u001b[0mfloat\u001b[0m\u001b[0;34m(\u001b[0m\u001b[0minput\u001b[0m\u001b[0;34m(\u001b[0m\u001b[0;34m\"Escolha mais um número: \"\u001b[0m\u001b[0;34m)\u001b[0m\u001b[0;34m)\u001b[0m\u001b[0;34m\u001b[0m\u001b[0;34m\u001b[0m\u001b[0m\n\u001b[1;32m      4\u001b[0m \u001b[0;34m\u001b[0m\u001b[0m\n\u001b[1;32m      5\u001b[0m \u001b[0;32mif\u001b[0m \u001b[0mn1\u001b[0m \u001b[0;34m>\u001b[0m \u001b[0mn2\u001b[0m \u001b[0;32mand\u001b[0m \u001b[0mn1\u001b[0m \u001b[0;34m>\u001b[0m \u001b[0mn2\u001b[0m\u001b[0;34m:\u001b[0m\u001b[0;34m\u001b[0m\u001b[0;34m\u001b[0m\u001b[0m\n",
            "\u001b[0;32m/usr/local/lib/python3.11/dist-packages/ipykernel/kernelbase.py\u001b[0m in \u001b[0;36mraw_input\u001b[0;34m(self, prompt)\u001b[0m\n\u001b[1;32m   1175\u001b[0m                 \u001b[0;34m\"raw_input was called, but this frontend does not support input requests.\"\u001b[0m\u001b[0;34m\u001b[0m\u001b[0;34m\u001b[0m\u001b[0m\n\u001b[1;32m   1176\u001b[0m             )\n\u001b[0;32m-> 1177\u001b[0;31m         return self._input_request(\n\u001b[0m\u001b[1;32m   1178\u001b[0m             \u001b[0mstr\u001b[0m\u001b[0;34m(\u001b[0m\u001b[0mprompt\u001b[0m\u001b[0;34m)\u001b[0m\u001b[0;34m,\u001b[0m\u001b[0;34m\u001b[0m\u001b[0;34m\u001b[0m\u001b[0m\n\u001b[1;32m   1179\u001b[0m             \u001b[0mself\u001b[0m\u001b[0;34m.\u001b[0m\u001b[0m_parent_ident\u001b[0m\u001b[0;34m[\u001b[0m\u001b[0;34m\"shell\"\u001b[0m\u001b[0;34m]\u001b[0m\u001b[0;34m,\u001b[0m\u001b[0;34m\u001b[0m\u001b[0;34m\u001b[0m\u001b[0m\n",
            "\u001b[0;32m/usr/local/lib/python3.11/dist-packages/ipykernel/kernelbase.py\u001b[0m in \u001b[0;36m_input_request\u001b[0;34m(self, prompt, ident, parent, password)\u001b[0m\n\u001b[1;32m   1217\u001b[0m             \u001b[0;32mexcept\u001b[0m \u001b[0mKeyboardInterrupt\u001b[0m\u001b[0;34m:\u001b[0m\u001b[0;34m\u001b[0m\u001b[0;34m\u001b[0m\u001b[0m\n\u001b[1;32m   1218\u001b[0m                 \u001b[0;31m# re-raise KeyboardInterrupt, to truncate traceback\u001b[0m\u001b[0;34m\u001b[0m\u001b[0;34m\u001b[0m\u001b[0m\n\u001b[0;32m-> 1219\u001b[0;31m                 \u001b[0;32mraise\u001b[0m \u001b[0mKeyboardInterrupt\u001b[0m\u001b[0;34m(\u001b[0m\u001b[0;34m\"Interrupted by user\"\u001b[0m\u001b[0;34m)\u001b[0m \u001b[0;32mfrom\u001b[0m \u001b[0;32mNone\u001b[0m\u001b[0;34m\u001b[0m\u001b[0;34m\u001b[0m\u001b[0m\n\u001b[0m\u001b[1;32m   1220\u001b[0m             \u001b[0;32mexcept\u001b[0m \u001b[0mException\u001b[0m\u001b[0;34m:\u001b[0m\u001b[0;34m\u001b[0m\u001b[0;34m\u001b[0m\u001b[0m\n\u001b[1;32m   1221\u001b[0m                 \u001b[0mself\u001b[0m\u001b[0;34m.\u001b[0m\u001b[0mlog\u001b[0m\u001b[0;34m.\u001b[0m\u001b[0mwarning\u001b[0m\u001b[0;34m(\u001b[0m\u001b[0;34m\"Invalid Message:\"\u001b[0m\u001b[0;34m,\u001b[0m \u001b[0mexc_info\u001b[0m\u001b[0;34m=\u001b[0m\u001b[0;32mTrue\u001b[0m\u001b[0;34m)\u001b[0m\u001b[0;34m\u001b[0m\u001b[0;34m\u001b[0m\u001b[0m\n",
            "\u001b[0;31mKeyboardInterrupt\u001b[0m: Interrupted by user"
          ]
        }
      ]
    },
    {
      "cell_type": "code",
      "source": [
        "n1 = float(input(\"Escolha um número: \"))\n",
        "n2 = float(input(\"Escolha outro número: \"))\n",
        "n3 = float(input(\"Escolha mais um número: \"))\n",
        "\n",
        "if n1 > n2 and n2 > n3:\n",
        "    print(f'{n1}>{n2}>{n3}')\n",
        "elif n1 > n2 and n1 > n3:\n",
        "    print(f'{n1}>{n3}>{n2}')\n",
        "elif n2 > n3 and n1 > n3:\n",
        "    print(f'{n2}>{n1}>{n3}')\n",
        "elif n2 > n3 and n3 > n1:\n",
        "    print(f'{n2}>{n3}>{n1}')\n",
        "elif n3 > n1 and n1 > n2:\n",
        "    print(f'{n3}>{n1}>{n2}')\n",
        "elif n3 > n1 and n2 > n1:\n",
        "    print(f'{n3}>{n2}>{n1}')\n",
        "else:\n",
        "    print(\"Valores invalidos\")\n",
        "\n"
      ],
      "metadata": {
        "colab": {
          "base_uri": "https://localhost:8080/"
        },
        "id": "eVZr1dyDOtBC",
        "outputId": "ab7bad83-d3e6-4bd4-949f-b070bc0943ef"
      },
      "execution_count": null,
      "outputs": [
        {
          "output_type": "stream",
          "name": "stdout",
          "text": [
            "Escolha um número: 1\n",
            "Escolha outro número: 2\n",
            "Escolha mais um número: 5\n",
            "5.0>2.0>1.0\n"
          ]
        }
      ]
    },
    {
      "cell_type": "code",
      "source": [
        "l1 = str(input('Selecione uma letra: '))\n",
        "l2 = str(input('Selecione outra letra: '))\n",
        "l3 = str(input('Selecione mais uma letra: '))\n",
        "\n",
        "if l1 <= l2 and l1 <= l3 and l2 <= l3 :\n",
        "    print(f'{l1}, {l2}, {l3}')\n",
        "elif l1 <= l2 and l1 <= l3 and l2 <= l3:\n",
        "    print(f'{l1}, {l3}, {l2}')\n",
        "elif l2 <= l1 and l2 <= l3 and l1 <= l3:\n",
        "    print(f'{l2}, {l1}, {l3}')\n",
        "elif l2 <= l1 and l2 <= l3 and l3 <= l1:\n",
        "    print(f'{l2}, {l3}, {l1}')\n",
        "elif l3 <= l2 and l3 <= l1 and l2 <= l3:\n",
        "    print(f'{l3}, {l2}, {l1}')\n",
        "elif l3 <= l1 and l3 <= l2 and l1 <= l2:\n",
        "    print(f'{l3}, {l1}, {l2}')\n",
        "elif l3 <= l2 and l3 <= l1 and l2 <= l1:\n",
        "    print(f'{l3}, {l2}, {l1}')\n",
        "elif l1 <= l3 and l1 <= l2 and l3 <= l2:\n",
        "    print(f'{l1}, {l3}, {l2}')\n",
        "else:\n",
        "    print(\"Insira valores válidos\")\n"
      ],
      "metadata": {
        "colab": {
          "base_uri": "https://localhost:8080/"
        },
        "id": "IsUIJSrZaPYI",
        "outputId": "e52ff13f-33bb-41fe-e048-d6f4378f6e47"
      },
      "execution_count": null,
      "outputs": [
        {
          "output_type": "stream",
          "name": "stdout",
          "text": [
            "Selecione uma letra: b\n",
            "Selecione outra letra: c\n",
            "Selecione mais uma letra: d\n",
            "b, c, d\n"
          ]
        }
      ]
    },
    {
      "cell_type": "code",
      "source": [
        "genero = str(input('qual seu gênero?'))\n",
        "while genero != 'homem' and genero != 'mulher':\n",
        "  genero = str(input('Insira um gênero válido:'))\n",
        "\n",
        "idade = int(input('Digite sua idade:'))\n",
        "\n",
        "altura = float(input('Qual sua altura?(em centímetros)'))\n",
        "\n",
        "peso = float(input('Qual seu peso?(Em quilogramas)'))\n",
        "\n",
        "\n",
        "if genero == 'mulher':\n",
        "  tmb = 655.09 + (9.563 * peso) + (1.85 * altura) - (4.676 * idade)\n",
        "  print('Seu TMB É:', tmb)\n",
        "\n",
        "elif genero == 'homem':\n",
        "  tmb = 66.47 + (13.75 * peso) + (5.003 * altura) - (6.755 * idade)\n",
        "  print('seu TMB é:', tmb:.2f)"
      ],
      "metadata": {
        "id": "oaXPQJ7K0S6t"
      },
      "execution_count": null,
      "outputs": []
    },
    {
      "cell_type": "code",
      "source": [
        "num = int(input(\"Selecione um número inteiro: \"))\n",
        "print(f\"\"\"A tabuada desse número é:\n",
        "        {num} * 1 = {num*1}\n",
        "        {num} * 2 = {num*2}\n",
        "        {num} * 3 = {num*3}\n",
        "        {num} * 4 = {num*4}\n",
        "        {num} * 5 = {num*5}\n",
        "        {num} * 6 = {num*6}\n",
        "        {num} * 7 = {num*7}\n",
        "        {num} * 8 = {num*8}\n",
        "        {num} * 9 = {num*9}\n",
        "        {num} * 1= = {num*10}\n",
        "\n",
        "                             \"\"\")"
      ],
      "metadata": {
        "colab": {
          "base_uri": "https://localhost:8080/"
        },
        "id": "BeyvHZbUm9m-",
        "outputId": "2ccbd61a-1099-4fc2-a93e-54e9402711c3"
      },
      "execution_count": null,
      "outputs": [
        {
          "output_type": "stream",
          "name": "stdout",
          "text": [
            "Selecione um número inteiro: 7\n",
            "A tabuada desse número é:\n",
            "        7 * 1 = 7    \n",
            "        7 * 2 = 14                    \n",
            "        7 * 3 = 21                        \n",
            "        7 * 4 = 28                    \n",
            "        7 * 5 = 35                    \n",
            "        7 * 6 = 42                    \n",
            "        7 * 7 = 49                    \n",
            "        7 * 8 = 56                    \n",
            "        7 * 9 = 63                    \n",
            "                           \n",
            "                             \n"
          ]
        }
      ]
    },
    {
      "cell_type": "code",
      "source": [],
      "metadata": {
        "id": "94WqjasQnOm_"
      },
      "execution_count": null,
      "outputs": []
    }
  ]
}